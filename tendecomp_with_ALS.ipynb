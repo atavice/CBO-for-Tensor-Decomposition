{
 "cells": [
  {
   "cell_type": "code",
   "execution_count": 195,
   "metadata": {
    "collapsed": true
   },
   "outputs": [
    {
     "name": "stdout",
     "output_type": "stream",
     "text": [
      "absolute error: 1.3988175701590626\n",
      "relative error: 0.3241915454616701\n"
     ]
    }
   ],
   "source": [
    "import numpy as np\n",
    "import pandas as pd\n",
    "import tensorly as tl\n",
    "from tensorly.cp_tensor import cp_to_tensor\n",
    "from tensorly.decomposition import parafac\n",
    "from tensorly import random\n",
    "import random\n",
    "np.random.seed(42)\n",
    "\n",
    "I = 3\n",
    "J = 4\n",
    "K = 5\n",
    "rank = 3\n",
    "tensor = tl.tensor(np.random.uniform(0, 1, (I, J, K)))\n",
    "\n",
    "factors = parafac(tensor, rank=rank)\n",
    "A = factors[1][0]\n",
    "B = factors[1][1]\n",
    "C = factors[1][2]\n",
    "\n",
    "# Reconstruct tensor from the given particle\n",
    "reconstructed_tensor = cp_to_tensor((np.ones(rank), [A, B, C]))\n",
    "\n",
    "# Compute the Frobenius norm of the difference (absolute error)\n",
    "abs_error = tl.norm(tensor - reconstructed_tensor)\n",
    "print(f'absolute error: {abs_error}')\n",
    "\n",
    "# Compute the Frobenius norm of the difference divided by the actual tensor (relative error)\n",
    "rel_error = tl.norm(tensor - reconstructed_tensor) / tl.norm(tensor)\n",
    "\n",
    "print(f'relative error: {rel_error}')"
   ]
  },
  {
   "cell_type": "code",
   "execution_count": 191,
   "outputs": [
    {
     "data": {
      "text/plain": "\"import numpy as np\\nimport tensorly as tl\\nfrom tensorly.decomposition import parafac\\nimport matplotlib.pyplot as plt\\n\\nnp.random.seed(0)\\n\\n# Example tensor\\nI, J, K = 3, 3, 3\\ntensor = tl.tensor(np.random.rand(I, J, K))\\n\\n# Decompose with CP and track errors\\nrank = 2\\nweights, factors, errors = parafac(\\n    tensor,\\n    rank=rank,\\n    n_iter_max=50,         # max iterations\\n    init='random',\\n    tol=1e-7,\\n    return_errors=True     # returns a list of reconstruction errors\\n)\\n\\n# Plot the error over iterations\\nplt.figure(figsize=(6,4))\\nplt.plot(errors, marker='o')\\nplt.xlabel('Iteration')\\nplt.ylabel('Reconstruction Error (Frobenius)')\\nplt.title('CP/PARAFAC Error vs. Iteration')\\nplt.grid(True)\\nplt.show()\\n\""
     },
     "execution_count": 191,
     "metadata": {},
     "output_type": "execute_result"
    }
   ],
   "source": [
    "\"\"\"import numpy as np\n",
    "import tensorly as tl\n",
    "from tensorly.decomposition import parafac\n",
    "import matplotlib.pyplot as plt\n",
    "\n",
    "np.random.seed(0)\n",
    "\n",
    "# Example tensor\n",
    "I, J, K = 3, 3, 3\n",
    "tensor = tl.tensor(np.random.rand(I, J, K))\n",
    "\n",
    "# Decompose with CP and track errors\n",
    "rank = 2\n",
    "weights, factors, errors = parafac(\n",
    "    tensor,\n",
    "    rank=rank,\n",
    "    n_iter_max=50,         # max iterations\n",
    "    init='random',\n",
    "    tol=1e-7,\n",
    "    return_errors=True     # returns a list of reconstruction errors\n",
    ")\n",
    "\n",
    "# Plot the error over iterations\n",
    "plt.figure(figsize=(6,4))\n",
    "plt.plot(errors, marker='o')\n",
    "plt.xlabel('Iteration')\n",
    "plt.ylabel('Reconstruction Error (Frobenius)')\n",
    "plt.title('CP/PARAFAC Error vs. Iteration')\n",
    "plt.grid(True)\n",
    "plt.show()\n",
    "\"\"\""
   ],
   "metadata": {
    "collapsed": false
   }
  },
  {
   "cell_type": "code",
   "execution_count": 198,
   "outputs": [
    {
     "data": {
      "text/plain": "<Figure size 432x288 with 1 Axes>",
      "image/png": "[encoded data removed]"
     },
     "metadata": {
      "needs_background": "light"
     },
     "output_type": "display_data"
    },
    {
     "name": "stdout",
     "output_type": "stream",
     "text": [
      "Final absolute error:  0.324192\n",
      "Final relative error:  0.075135\n",
      "Final reconstructed tensor:\n",
      "[[[0.26780984 0.59392792 0.6127124  0.53252856 0.2991515 ]\n",
      "  [0.4251025  0.5285057  0.59425965 0.55984108 0.36932747]\n",
      "  [0.03830725 0.92807915 1.00954858 0.34021114 0.16237166]\n",
      "  [0.21231433 0.49039323 0.57127167 0.29444322 0.19973136]]\n",
      "\n",
      " [[0.63375507 0.16390684 0.26094086 0.51963981 0.42618951]\n",
      "  [0.48949958 0.20305535 0.23148811 0.53724704 0.37364504]\n",
      "  [0.96989049 0.24044107 0.28702449 1.00258598 0.71400867]\n",
      "  [0.45018948 0.17751668 0.16106076 0.57829608 0.36848422]]\n",
      "\n",
      " [[0.10047504 0.55481446 0.25451348 1.0096744  0.37133265]\n",
      "  [0.62209122 0.33220418 0.44933337 0.55147315 0.43896342]\n",
      "  [0.88439862 0.49708649 0.68782095 0.74608606 0.61385118]\n",
      "  [0.86487587 0.15450797 0.53094461 0.16492494 0.41486026]]]\n"
     ]
    }
   ],
   "source": [
    "import numpy as np\n",
    "import tensorly as tl\n",
    "from tensorly.decomposition import parafac\n",
    "from tensorly.cp_tensor import cp_to_tensor\n",
    "import matplotlib.pyplot as plt\n",
    "\n",
    "# Reproducibility\n",
    "np.random.seed(42)\n",
    "\n",
    "# Generate a sample 3x3x3 tensor\n",
    "I, J, K = 3, 4, 5\n",
    "tensor = tl.tensor(np.random.rand(I, J, K))\n",
    "\n",
    "# Decompose with CP and get error at each iteration\n",
    "rank = 3\n",
    "cp_tensor, errors = parafac(\n",
    "    tensor,\n",
    "    rank=rank,\n",
    "    n_iter_max=100,\n",
    "    init='svd',\n",
    "    tol=1e-8,\n",
    "    return_errors=True\n",
    ")\n",
    "\n",
    "# cp_tensor is (weights, factors)\n",
    "weights, factors = cp_tensor\n",
    "\n",
    "# --- Plot the error across iterations ---\n",
    "plt.plot(errors, marker='o')\n",
    "plt.xlabel('Iteration')\n",
    "plt.ylabel('Reconstruction Error (Frobenius)')\n",
    "plt.title('CP/PARAFAC Error vs. Iteration')\n",
    "plt.grid(True)\n",
    "plt.show()\n",
    "\n",
    "# --- Print the final absolute and relative errors ---\n",
    "final_abs_error = errors[-1]\n",
    "final_rel_error = final_abs_error / tl.norm(tensor)\n",
    "\n",
    "print(f'Final absolute error:  {final_abs_error:.6f}')\n",
    "print(f'Final relative error:  {final_rel_error:.6f}')\n",
    "\n",
    "# Wrong reconstruction – ignoring 'weights':\n",
    "reconstructed_tensor = cp_to_tensor((np.ones_like(weights), factors))\n",
    "\n",
    "print(\"Final reconstructed tensor:\")\n",
    "print(reconstructed_tensor)\n"
   ],
   "metadata": {
    "collapsed": false
   }
  },
  {
   "cell_type": "code",
   "execution_count": 199,
   "outputs": [
    {
     "data": {
      "text/plain": "1.3988175701590626"
     },
     "execution_count": 199,
     "metadata": {},
     "output_type": "execute_result"
    }
   ],
   "source": [
    "tl.norm(tensor - reconstructed_tensor)"
   ],
   "metadata": {
    "collapsed": false
   }
  },
  {
   "cell_type": "code",
   "execution_count": 194,
   "outputs": [
    {
     "data": {
      "text/plain": "'cp_tensor, errors = parafac(tensor, rank=rank, return_errors=True)\\n# cp_tensor = (weights, factors)\\nreconstructed_tensor = cp_to_tensor(cp_tensor)\\n\\n# The final error from TensorLy’s internal tracking:\\nfinal_error_reported = errors[-1]\\n\\n# Manually compute the Frobenius norm difference:\\nimport tensorly as tl\\nfinal_error_manual = tl.norm(tensor - reconstructed_tensor)\\n\\nprint(final_error_reported, final_error_manual)\\n'"
     },
     "execution_count": 194,
     "metadata": {},
     "output_type": "execute_result"
    }
   ],
   "source": [
    "\"\"\"cp_tensor, errors = parafac(tensor, rank=rank, return_errors=True)\n",
    "# cp_tensor = (weights, factors)\n",
    "reconstructed_tensor = cp_to_tensor(cp_tensor)\n",
    "\n",
    "# The final error from TensorLy’s internal tracking:\n",
    "final_error_reported = errors[-1]\n",
    "\n",
    "# Manually compute the Frobenius norm difference:\n",
    "import tensorly as tl\n",
    "final_error_manual = tl.norm(tensor - reconstructed_tensor)\n",
    "\n",
    "print(final_error_reported, final_error_manual)\n",
    "\"\"\""
   ],
   "metadata": {
    "collapsed": false
   }
  },
  {
   "cell_type": "code",
   "execution_count": 194,
   "outputs": [],
   "source": [],
   "metadata": {
    "collapsed": false
   }
  }
 ],
 "metadata": {
  "kernelspec": {
   "display_name": "Python 3",
   "language": "python",
   "name": "python3"
  },
  "language_info": {
   "codemirror_mode": {
    "name": "ipython",
    "version": 2
   },
   "file_extension": ".py",
   "mimetype": "text/x-python",
   "name": "python",
   "nbconvert_exporter": "python",
   "pygments_lexer": "ipython2",
   "version": "2.7.6"
  }
 },
 "nbformat": 4,
 "nbformat_minor": 0
}
