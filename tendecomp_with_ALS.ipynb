{
 "cells": [
  {
   "cell_type": "code",
   "execution_count": 13,
   "metadata": {
    "collapsed": true
   },
   "outputs": [],
   "source": [
    "import numpy as np\n",
    "import pandas as pd\n",
    "import tensorly as tl\n",
    "from tensorly.cp_tensor import cp_to_tensor\n",
    "from tensorly import random\n",
    "import random\n",
    "np.random.seed(42)"
   ]
  },
  {
   "cell_type": "code",
   "execution_count": 14,
   "outputs": [],
   "source": [
    "I = 3\n",
    "J = 3\n",
    "K = 3\n",
    "rank = 2\n",
    "tensor = tl.tensor(np.random.random((I, J, K)))"
   ],
   "metadata": {
    "collapsed": false
   }
  },
  {
   "cell_type": "code",
   "execution_count": 15,
   "outputs": [
    {
     "data": {
      "text/plain": "array([[[0.37454012, 0.95071431, 0.73199394],\n        [0.59865848, 0.15601864, 0.15599452],\n        [0.05808361, 0.86617615, 0.60111501]],\n\n       [[0.70807258, 0.02058449, 0.96990985],\n        [0.83244264, 0.21233911, 0.18182497],\n        [0.18340451, 0.30424224, 0.52475643]],\n\n       [[0.43194502, 0.29122914, 0.61185289],\n        [0.13949386, 0.29214465, 0.36636184],\n        [0.45606998, 0.78517596, 0.19967378]]])"
     },
     "execution_count": 15,
     "metadata": {},
     "output_type": "execute_result"
    }
   ],
   "source": [
    "tensor"
   ],
   "metadata": {
    "collapsed": false
   }
  },
  {
   "cell_type": "code",
   "execution_count": 16,
   "outputs": [
    {
     "data": {
      "text/plain": "2"
     },
     "execution_count": 16,
     "metadata": {},
     "output_type": "execute_result"
    }
   ],
   "source": [
    "from tensorly.decomposition import parafac\n",
    "factors = parafac(tensor, rank=rank)\n",
    "len(factors)"
   ],
   "metadata": {
    "collapsed": false
   }
  },
  {
   "cell_type": "code",
   "execution_count": 17,
   "outputs": [
    {
     "data": {
      "text/plain": "(weights, factors) : rank-2 CPTensor of shape (3, 3, 3)"
     },
     "execution_count": 17,
     "metadata": {},
     "output_type": "execute_result"
    }
   ],
   "source": [
    "factors"
   ],
   "metadata": {
    "collapsed": false
   }
  },
  {
   "cell_type": "code",
   "execution_count": 18,
   "outputs": [
    {
     "data": {
      "text/plain": "array([1., 1.])"
     },
     "execution_count": 18,
     "metadata": {},
     "output_type": "execute_result"
    }
   ],
   "source": [
    "factors[0]"
   ],
   "metadata": {
    "collapsed": false
   }
  },
  {
   "cell_type": "code",
   "execution_count": 19,
   "outputs": [
    {
     "data": {
      "text/plain": "[array([[ 1.91806024, -0.31836078],\n        [ 0.72470286, -0.57413411],\n        [ 1.19833152, -0.30627604]]),\n array([[0.61735235, 0.89854873],\n        [0.19185914, 0.61064806],\n        [0.6821388 , 0.34990077]]),\n array([[-0.03336264, -1.69700109],\n        [ 0.76623608,  0.30500569],\n        [ 0.3190305 , -1.21354927]])]"
     },
     "execution_count": 19,
     "metadata": {},
     "output_type": "execute_result"
    }
   ],
   "source": [
    "factors[1]"
   ],
   "metadata": {
    "collapsed": false
   }
  },
  {
   "cell_type": "code",
   "execution_count": 20,
   "outputs": [],
   "source": [
    "A = factors[1][0]\n",
    "B = factors[1][1]\n",
    "C = factors[1][2]"
   ],
   "metadata": {
    "collapsed": false
   }
  },
  {
   "cell_type": "code",
   "execution_count": 21,
   "outputs": [
    {
     "data": {
      "text/plain": "array([[-0.03336264, -1.69700109],\n       [ 0.76623608,  0.30500569],\n       [ 0.3190305 , -1.21354927]])"
     },
     "execution_count": 21,
     "metadata": {},
     "output_type": "execute_result"
    }
   ],
   "source": [
    "C"
   ],
   "metadata": {
    "collapsed": false
   }
  },
  {
   "cell_type": "code",
   "execution_count": 22,
   "outputs": [
    {
     "data": {
      "text/plain": "array([[[ 4.45943334e-01,  8.20063954e-01,  7.24921227e-01],\n        [ 3.17630494e-01,  2.22677827e-01,  3.53324129e-01],\n        [ 1.45385778e-01,  9.68554492e-01,  5.52597122e-01]],\n\n       [[ 8.60535264e-01,  1.85463116e-01,  7.68788165e-01],\n        [ 5.90319426e-01, -3.94997428e-04,  4.69821227e-01],\n        [ 3.24417745e-01,  3.17514645e-01,  4.01501948e-01]],\n\n       [[ 4.42339964e-01,  4.82917145e-01,  5.69990014e-01],\n        [ 3.09714371e-01,  1.19121735e-01,  3.00314901e-01],\n        [ 1.54589630e-01,  5.93656844e-01,  3.90836095e-01]]])"
     },
     "execution_count": 22,
     "metadata": {},
     "output_type": "execute_result"
    }
   ],
   "source": [
    "# Reconstruct tensor from the given particle\n",
    "reconstructed_tensor = cp_to_tensor((np.ones(rank), [A, B, C]))\n",
    "\n",
    "reconstructed_tensor"
   ],
   "metadata": {
    "collapsed": false
   }
  },
  {
   "cell_type": "code",
   "execution_count": 23,
   "outputs": [
    {
     "data": {
      "text/plain": "0.8625425844610721"
     },
     "execution_count": 23,
     "metadata": {},
     "output_type": "execute_result"
    }
   ],
   "source": [
    "# Compute the Frobenius norm of the difference\n",
    "error = tl.norm(tensor - reconstructed_tensor)\n",
    "error"
   ],
   "metadata": {
    "collapsed": false
   }
  },
  {
   "cell_type": "code",
   "execution_count": 24,
   "outputs": [
    {
     "data": {
      "text/plain": "'from tensorly.tenalg import khatri_rao\\nCB_khatri_rao = khatri_rao([C, B])\\nX_mode1 = tl.unfold(tensor, mode=0)\\nX_approx_mode1 = np.dot(A, CB_khatri_rao.T)\\n\\n# print results\\n\\nprint(\"Original tensor (unfolded along mode-1):\")\\nprint(X_mode1)\\n\\nprint(\"\\nApproximated tensor (unfolded along mode-1):\")\\nprint(X_approx_mode1)\\n\\nprint(\"\\nAre the original and approximated matricized tensors close?\")\\nprint(np.allclose(X_mode1, X_approx_mode1, rtol=1, atol=1))\\n\\ntensor_approx = tl.kruskal_to_tensor(factors)\\n\\nerror_frobenius_norm = error = tl.norm(tensor - tensor_approx)\\n\\nprint(f\"Frobenius norm of the error: {error_frobenius_norm}\")'"
     },
     "execution_count": 24,
     "metadata": {},
     "output_type": "execute_result"
    }
   ],
   "source": [
    "\"\"\"from tensorly.tenalg import khatri_rao\n",
    "CB_khatri_rao = khatri_rao([C, B])\n",
    "X_mode1 = tl.unfold(tensor, mode=0)\n",
    "X_approx_mode1 = np.dot(A, CB_khatri_rao.T)\n",
    "\n",
    "# print results\n",
    "\n",
    "print(\"Original tensor (unfolded along mode-1):\")\n",
    "print(X_mode1)\n",
    "\n",
    "print(\"\\nApproximated tensor (unfolded along mode-1):\")\n",
    "print(X_approx_mode1)\n",
    "\n",
    "print(\"\\nAre the original and approximated matricized tensors close?\")\n",
    "print(np.allclose(X_mode1, X_approx_mode1, rtol=1, atol=1))\n",
    "\n",
    "tensor_approx = tl.kruskal_to_tensor(factors)\n",
    "\n",
    "error_frobenius_norm = error = tl.norm(tensor - tensor_approx)\n",
    "\n",
    "print(f\"Frobenius norm of the error: {error_frobenius_norm}\")\"\"\""
   ],
   "metadata": {
    "collapsed": false
   }
  }
 ],
 "metadata": {
  "kernelspec": {
   "display_name": "Python 3",
   "language": "python",
   "name": "python3"
  },
  "language_info": {
   "codemirror_mode": {
    "name": "ipython",
    "version": 2
   },
   "file_extension": ".py",
   "mimetype": "text/x-python",
   "name": "python",
   "nbconvert_exporter": "python",
   "pygments_lexer": "ipython2",
   "version": "2.7.6"
  }
 },
 "nbformat": 4,
 "nbformat_minor": 0
}
