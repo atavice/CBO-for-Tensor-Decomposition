{
 "cells": [
  {
   "cell_type": "code",
   "execution_count": 63,
   "metadata": {
    "collapsed": true
   },
   "outputs": [],
   "source": [
    "import numpy as np\n",
    "import pandas as pd\n",
    "import tensorly as tl\n",
    "from tensorly.cp_tensor import cp_to_tensor\n",
    "from tensorly.decomposition import parafac\n",
    "from tensorly import random\n",
    "import random\n",
    "np.random.seed(42)"
   ]
  },
  {
   "cell_type": "code",
   "execution_count": 64,
   "outputs": [
    {
     "data": {
      "text/plain": "6.032647798027754"
     },
     "execution_count": 64,
     "metadata": {},
     "output_type": "execute_result"
    }
   ],
   "source": [
    "I = 8\n",
    "J = 8\n",
    "K = 8\n",
    "rank = 3\n",
    "tensor = tl.tensor(np.random.random((I, J, K)))\n",
    "\n",
    "factors = parafac(tensor, rank=rank)\n",
    "A = factors[1][0]\n",
    "B = factors[1][1]\n",
    "C = factors[1][2]\n",
    "\n",
    "# Reconstruct tensor from the given particle\n",
    "reconstructed_tensor = cp_to_tensor((np.ones(rank), [A, B, C]))\n",
    "\n",
    "# Compute the Frobenius norm of the difference\n",
    "error = tl.norm(tensor - reconstructed_tensor)\n",
    "error"
   ],
   "metadata": {
    "collapsed": false
   }
  },
  {
   "cell_type": "code",
   "execution_count": 60,
   "outputs": [],
   "source": [],
   "metadata": {
    "collapsed": false
   }
  }
 ],
 "metadata": {
  "kernelspec": {
   "display_name": "Python 3",
   "language": "python",
   "name": "python3"
  },
  "language_info": {
   "codemirror_mode": {
    "name": "ipython",
    "version": 2
   },
   "file_extension": ".py",
   "mimetype": "text/x-python",
   "name": "python",
   "nbconvert_exporter": "python",
   "pygments_lexer": "ipython2",
   "version": "2.7.6"
  }
 },
 "nbformat": 4,
 "nbformat_minor": 0
}
